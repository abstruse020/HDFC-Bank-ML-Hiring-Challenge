{
 "cells": [
  {
   "cell_type": "code",
   "execution_count": 1,
   "metadata": {},
   "outputs": [],
   "source": [
    "import os\n",
    "import glob\n",
    "import numpy as np\n",
    "import pandas as pd\n",
    "import torch\n",
    "import operator\n",
    "import json\n",
    "#from xgboost import XGBClassifier\n",
    "import re, string\n",
    "import torch.nn as nn\n",
    "import torch.nn.functional as F\n",
    "from fastai import *\n",
    "from fastai.vision import *\n",
    "from fastai.tabular import *\n",
    "\n",
    "from fastai.torch_core import *\n",
    "from fastai.callback import *\n",
    "from fastai.callbacks.tracker import *\n",
    "from fastai.basic_train import LearnerCallback\n",
    "\n",
    "from pathlib import Path\n",
    "from sklearn.metrics import precision_recall_curve, auc\n",
    "import warnings\n",
    "warnings.filterwarnings('ignore')"
   ]
  },
  {
   "cell_type": "code",
   "execution_count": 2,
   "metadata": {},
   "outputs": [],
   "source": [
    "#import split_train_set"
   ]
  },
  {
   "cell_type": "code",
   "execution_count": 3,
   "metadata": {},
   "outputs": [
    {
     "name": "stdout",
     "output_type": "stream",
     "text": [
      "(17521, 2358)\n"
     ]
    }
   ],
   "source": [
    "path = Path(\"/mnt/sdb/projects/hdfc/DataSet\")\n",
    "\n",
    "train = pd.read_csv(path/\"Train_initial.csv\", keep_default_na=False)\n",
    "test = pd.read_csv(path/\"Test_initial.csv\", keep_default_na=False)\n",
    "#test_csv = pd.read_csv(\"dist/Data_Test.csv\", keep_default_na=False)\n",
    "#display(train_csv.head)\n",
    "#train = preprocess_data(train_csv)\n",
    "print(train.shape)"
   ]
  },
  {
   "cell_type": "code",
   "execution_count": 4,
   "metadata": {},
   "outputs": [],
   "source": [
    "columns_text = \"\"\n",
    "with open('columns.txt', 'r') as f:\n",
    "    columns_text = f.readline()"
   ]
  },
  {
   "cell_type": "code",
   "execution_count": 5,
   "metadata": {},
   "outputs": [
    {
     "name": "stdout",
     "output_type": "stream",
     "text": [
      "Total Features:  0 categorical + 2357 numerical = 2357 features\n"
     ]
    },
    {
     "data": {
      "text/plain": [
       "'\\nidx = np.arange(train.shape[0])\\ntrain_new, valid, train_idx, valid_idx = train_test_split(train, idx, test_size=0.05, random_state=42)\\ntrain_idx.shape, valid_idx.shape\\n'"
      ]
     },
     "execution_count": 5,
     "metadata": {},
     "output_type": "execute_result"
    }
   ],
   "source": [
    "dep_var = 'Col2'\n",
    "cat_names = train.select_dtypes(include=['object']).columns.tolist()\n",
    "\n",
    "cont_names = train.select_dtypes(include=[np.number]).columns.tolist()\n",
    "cont_names.remove('Col2')\n",
    "#cont_names = columns_text.split(\",\")\n",
    "#cont_names.remove('Col1')\n",
    "#cont_names.remove('Col2')\n",
    "\n",
    "valid_idx = range(len(train) - int(len(train) * 0.12), len(train))\n",
    "#valid_df = train[len(train) - int(len(train) * 0.12):]\n",
    "#print(valid_df.shape)\n",
    "\n",
    "cat = len(cat_names)\n",
    "num = len(cont_names)\n",
    "\n",
    "print('Total Features: ', cat, 'categorical', '+', num, 'numerical', '=', cat+num, 'features')\n",
    "\n",
    "test_id = test[\"Col1\"]\n",
    "test = test.drop(columns=['Col1'])\n",
    "\n",
    "procs = [Normalize]\n",
    "\n",
    "# Test tabularlist\n",
    "test = TabularList.from_df(test, cat_names=cat_names, cont_names=cont_names, procs=procs)\n",
    "#valid_test = TabularList.from_df(final_valid, cat_names=cat_names, cont_names=cont_names, procs=procs)\n",
    "\n",
    "\n",
    "\"\"\"\n",
    "idx = np.arange(train.shape[0])\n",
    "train_new, valid, train_idx, valid_idx = train_test_split(train, idx, test_size=0.05, random_state=42)\n",
    "train_idx.shape, valid_idx.shape\n",
    "\"\"\""
   ]
  },
  {
   "cell_type": "code",
   "execution_count": null,
   "metadata": {},
   "outputs": [],
   "source": [
    "# Train data bunch\n",
    "\"\"\"\n",
    "data = (TabularList.from_df(train, path=path, dep_var, \n",
    "                            valid_idx=valid_idx, \n",
    "                            cat_names=cat_names, \n",
    "                            cont_names=cont_names, \n",
    "                            procs=procs)\n",
    "        .add_test(test)\n",
    "        .databunch())\n",
    "\"\"\"\n",
    "\n",
    "\n",
    "data = (TabularList.from_df(train, path=path, cat_names=None, cont_names=cont_names, procs=procs)\n",
    "        .split_by_idx(valid_idx=valid_idx)\n",
    "        .label_from_df(cols = dep_var)\n",
    "        .add_test(test)\n",
    "        .databunch())\n",
    "\n",
    "#data = TabularDataBunch.from_df(path, train, dep_var, valid_idx=valid_idx, procs=procs, cat_names=cat_names)\n",
    "#data.add_test(test)\n",
    "\n",
    "# data = TabularDataBunch.from_df('.', train, dep_var, valid_idx=valid_idx, procs=procs, cat_names=cat_names)\n",
    "#.random_split_by_pct(valid_pct=0.05, seed=43)"
   ]
  },
  {
   "cell_type": "code",
   "execution_count": null,
   "metadata": {},
   "outputs": [],
   "source": [
    "data.show_batch(rows=5)"
   ]
  },
  {
   "cell_type": "code",
   "execution_count": 8,
   "metadata": {},
   "outputs": [
    {
     "data": {
      "text/plain": [
       "[Sequential(\n",
       "   (0): ModuleList()\n",
       "   (1): Dropout(p=0.01, inplace=False)\n",
       "   (2): BatchNorm1d(2357, eps=1e-05, momentum=0.1, affine=True, track_running_stats=True)\n",
       "   (3): Linear(in_features=2357, out_features=1000, bias=True)\n",
       "   (4): ReLU(inplace=True)\n",
       "   (5): BatchNorm1d(1000, eps=1e-05, momentum=0.1, affine=True, track_running_stats=True)\n",
       "   (6): Linear(in_features=1000, out_features=200, bias=True)\n",
       "   (7): ReLU(inplace=True)\n",
       "   (8): BatchNorm1d(200, eps=1e-05, momentum=0.1, affine=True, track_running_stats=True)\n",
       "   (9): Linear(in_features=200, out_features=15, bias=True)\n",
       "   (10): ReLU(inplace=True)\n",
       "   (11): BatchNorm1d(15, eps=1e-05, momentum=0.1, affine=True, track_running_stats=True)\n",
       "   (12): Linear(in_features=15, out_features=2, bias=True)\n",
       " )]"
      ]
     },
     "execution_count": 8,
     "metadata": {},
     "output_type": "execute_result"
    }
   ],
   "source": [
    "y_range = [0,1]\n",
    "\n",
    "learn = tabular_learner(data, layers=[1000, 200, 15], \n",
    "                        #ps=[0.001, 0.01], \n",
    "                        emb_drop=0.01,\n",
    "                        #emb_szs={}, \n",
    "                        metrics=[error_rate], \n",
    "                        # metrics=[r2_score], \n",
    "                        callback_fns=ShowGraph)\n",
    "\n",
    "learn.data.batch_size = 128\n",
    "learn.loss_func=CrossEntropyFlat()\n",
    "learn.unfreeze()\n",
    "learn.layer_groups"
   ]
  },
  {
   "cell_type": "code",
   "execution_count": 16,
   "metadata": {},
   "outputs": [
    {
     "data": {
      "text/html": [],
      "text/plain": [
       "<IPython.core.display.HTML object>"
      ]
     },
     "metadata": {},
     "output_type": "display_data"
    },
    {
     "name": "stderr",
     "output_type": "stream",
     "text": [
      "Traceback (most recent call last):\n",
      "  File \"/home/koushik/.conda/envs/image-segmentation/lib/python3.6/multiprocessing/queues.py\", line 240, in _feed\n",
      "    send_bytes(obj)\n",
      "  File \"/home/koushik/.conda/envs/image-segmentation/lib/python3.6/multiprocessing/connection.py\", line 200, in send_bytes\n",
      "    self._send_bytes(m[offset:offset + size])\n",
      "  File \"/home/koushik/.conda/envs/image-segmentation/lib/python3.6/multiprocessing/connection.py\", line 404, in _send_bytes\n",
      "    self._send(header + buf)\n",
      "  File \"/home/koushik/.conda/envs/image-segmentation/lib/python3.6/multiprocessing/connection.py\", line 368, in _send\n",
      "    n = write(self._handle, buf)\n",
      "BrokenPipeError: [Errno 32] Broken pipe\n"
     ]
    },
    {
     "name": "stdout",
     "output_type": "stream",
     "text": [
      "LR Finder is complete, type {learner_name}.recorder.plot() to see the graph.\n"
     ]
    }
   ],
   "source": [
    "#learn.unfreeze(-2)\n",
    "#learn.freeze()\n",
    "learn.load('bestmodel')\n",
    "learn.lr_find()\n",
    "learn.data = data\n",
    "learn.unfreeze()"
   ]
  },
  {
   "cell_type": "code",
   "execution_count": 76,
   "metadata": {},
   "outputs": [],
   "source": [
    "learn.unfreeze()\n",
    "learn.data.batch_size = 128"
   ]
  },
  {
   "cell_type": "code",
   "execution_count": null,
   "metadata": {},
   "outputs": [],
   "source": [
    "learn.load('bestmodel')"
   ]
  },
  {
   "cell_type": "code",
   "execution_count": 17,
   "metadata": {},
   "outputs": [
    {
     "data": {
      "image/png": "[encoded data removed]",
      "text/plain": [
       "<Figure size 864x288 with 2 Axes>"
      ]
     },
     "metadata": {
      "needs_background": "light"
     },
     "output_type": "display_data"
    }
   ],
   "source": [
    "#learn.sched.plot()\n",
    "learn.recorder.plot_lr(show_moms=True)"
   ]
  },
  {
   "cell_type": "code",
   "execution_count": 18,
   "metadata": {},
   "outputs": [
    {
     "name": "stdout",
     "output_type": "stream",
     "text": [
      "Min numerical gradient: 3.98E-06\n",
      "Min loss divided by 10: 4.37E-06\n"
     ]
    },
    {
     "data": {
      "image/png": "[encoded data removed]",
      "text/plain": [
       "<Figure size 432x288 with 1 Axes>"
      ]
     },
     "metadata": {
      "needs_background": "light"
     },
     "output_type": "display_data"
    }
   ],
   "source": [
    "learn.recorder.plot(suggestion = True)\n",
    "mng3 = learn.recorder.min_grad_lr"
   ]
  },
  {
   "cell_type": "code",
   "execution_count": 19,
   "metadata": {
    "scrolled": true
   },
   "outputs": [
    {
     "data": {
      "text/html": [
       "\n",
       "    <div>\n",
       "        <style>\n",
       "            /* Turns off some styling */\n",
       "            progress {\n",
       "                /* gets rid of default border in Firefox and Opera. */\n",
       "                border: none;\n",
       "                /* Needs to be in here for Safari polyfill so background images work as expected. */\n",
       "                background-size: auto;\n",
       "            }\n",
       "            .progress-bar-interrupted, .progress-bar-interrupted::-webkit-progress-bar {\n",
       "                background: #F44336;\n",
       "            }\n",
       "        </style>\n",
       "      <progress value='12' class='' max='50', style='width:300px; height:20px; vertical-align: middle;'></progress>\n",
       "      24.00% [12/50 00:18<00:58]\n",
       "    </div>\n",
       "    \n",
       "<table border=\"1\" class=\"dataframe\">\n",
       "  <thead>\n",
       "    <tr style=\"text-align: left;\">\n",
       "      <th>epoch</th>\n",
       "      <th>train_loss</th>\n",
       "      <th>valid_loss</th>\n",
       "      <th>error_rate</th>\n",
       "      <th>time</th>\n",
       "    </tr>\n",
       "  </thead>\n",
       "  <tbody>\n",
       "    <tr>\n",
       "      <td>0</td>\n",
       "      <td>0.277115</td>\n",
       "      <td>96.333809</td>\n",
       "      <td>0.102759</td>\n",
       "      <td>00:01</td>\n",
       "    </tr>\n",
       "    <tr>\n",
       "      <td>1</td>\n",
       "      <td>0.280024</td>\n",
       "      <td>93.308441</td>\n",
       "      <td>0.102759</td>\n",
       "      <td>00:01</td>\n",
       "    </tr>\n",
       "    <tr>\n",
       "      <td>2</td>\n",
       "      <td>0.278140</td>\n",
       "      <td>106.507431</td>\n",
       "      <td>0.104186</td>\n",
       "      <td>00:01</td>\n",
       "    </tr>\n",
       "    <tr>\n",
       "      <td>3</td>\n",
       "      <td>0.270408</td>\n",
       "      <td>82.403740</td>\n",
       "      <td>0.102759</td>\n",
       "      <td>00:01</td>\n",
       "    </tr>\n",
       "    <tr>\n",
       "      <td>4</td>\n",
       "      <td>0.278508</td>\n",
       "      <td>66.202393</td>\n",
       "      <td>0.103711</td>\n",
       "      <td>00:01</td>\n",
       "    </tr>\n",
       "    <tr>\n",
       "      <td>5</td>\n",
       "      <td>0.280212</td>\n",
       "      <td>52.723019</td>\n",
       "      <td>0.102759</td>\n",
       "      <td>00:01</td>\n",
       "    </tr>\n",
       "    <tr>\n",
       "      <td>6</td>\n",
       "      <td>0.279982</td>\n",
       "      <td>163.577225</td>\n",
       "      <td>0.105614</td>\n",
       "      <td>00:01</td>\n",
       "    </tr>\n",
       "    <tr>\n",
       "      <td>7</td>\n",
       "      <td>0.283774</td>\n",
       "      <td>79.842232</td>\n",
       "      <td>0.102759</td>\n",
       "      <td>00:01</td>\n",
       "    </tr>\n",
       "    <tr>\n",
       "      <td>8</td>\n",
       "      <td>0.269943</td>\n",
       "      <td>77.197021</td>\n",
       "      <td>0.102759</td>\n",
       "      <td>00:01</td>\n",
       "    </tr>\n",
       "    <tr>\n",
       "      <td>9</td>\n",
       "      <td>0.272043</td>\n",
       "      <td>159.018845</td>\n",
       "      <td>0.103711</td>\n",
       "      <td>00:01</td>\n",
       "    </tr>\n",
       "    <tr>\n",
       "      <td>10</td>\n",
       "      <td>0.278988</td>\n",
       "      <td>93.316452</td>\n",
       "      <td>0.104186</td>\n",
       "      <td>00:01</td>\n",
       "    </tr>\n",
       "    <tr>\n",
       "      <td>11</td>\n",
       "      <td>0.274169</td>\n",
       "      <td>69.449471</td>\n",
       "      <td>0.103235</td>\n",
       "      <td>00:01</td>\n",
       "    </tr>\n",
       "  </tbody>\n",
       "</table><p>\n",
       "\n",
       "    <div>\n",
       "        <style>\n",
       "            /* Turns off some styling */\n",
       "            progress {\n",
       "                /* gets rid of default border in Firefox and Opera. */\n",
       "                border: none;\n",
       "                /* Needs to be in here for Safari polyfill so background images work as expected. */\n",
       "                background-size: auto;\n",
       "            }\n",
       "            .progress-bar-interrupted, .progress-bar-interrupted::-webkit-progress-bar {\n",
       "                background: #F44336;\n",
       "            }\n",
       "        </style>\n",
       "      <progress value='17' class='' max='17', style='width:300px; height:20px; vertical-align: middle;'></progress>\n",
       "      100.00% [17/17 00:00<00:00]\n",
       "    </div>\n",
       "    "
      ],
      "text/plain": [
       "<IPython.core.display.HTML object>"
      ]
     },
     "metadata": {},
     "output_type": "display_data"
    },
    {
     "data": {
      "image/png": "[encoded data removed]",
      "text/plain": [
       "<Figure size 432x288 with 1 Axes>"
      ]
     },
     "metadata": {},
     "output_type": "display_data"
    },
    {
     "name": "stdout",
     "output_type": "stream",
     "text": [
      "Better model found at epoch 0 with error_rate value: 0.10275927931070328.\n",
      "Epoch 12: early stopping\n"
     ]
    },
    {
     "data": {
      "image/png": "[encoded data removed]",
      "text/plain": [
       "<Figure size 432x288 with 1 Axes>"
      ]
     },
     "metadata": {
      "needs_background": "light"
     },
     "output_type": "display_data"
    }
   ],
   "source": [
    "#learn.callback_fns.append(partial(SaveModel, every='epoch'))\n",
    "#learn.callback_fns.append(partial(EarlyStopping, monitor='accuracy', min_delta=0.01, patience=3))\n",
    "#learn.fit_one_cycle(80, max_lr=1e-05)\n",
    "max_lr = slice(mng3)\n",
    "learn.fit_one_cycle(50, max_lr=max_lr, callbacks=[\n",
    "    SaveModelCallback(learn, monitor='error_rate',mode='min'),\n",
    "    EarlyStoppingCallback(learn, monitor='error_rate', min_delta=0.001, patience=5)\n",
    "])"
   ]
  },
  {
   "cell_type": "code",
   "execution_count": 20,
   "metadata": {},
   "outputs": [
    {
     "data": {
      "text/plain": [
       "TabularModel(\n",
       "  (embeds): ModuleList()\n",
       "  (emb_drop): Dropout(p=0.01, inplace=False)\n",
       "  (bn_cont): BatchNorm1d(2357, eps=1e-05, momentum=0.1, affine=True, track_running_stats=True)\n",
       "  (layers): Sequential(\n",
       "    (0): Linear(in_features=2357, out_features=1000, bias=True)\n",
       "    (1): ReLU(inplace=True)\n",
       "    (2): BatchNorm1d(1000, eps=1e-05, momentum=0.1, affine=True, track_running_stats=True)\n",
       "    (3): Linear(in_features=1000, out_features=200, bias=True)\n",
       "    (4): ReLU(inplace=True)\n",
       "    (5): BatchNorm1d(200, eps=1e-05, momentum=0.1, affine=True, track_running_stats=True)\n",
       "    (6): Linear(in_features=200, out_features=15, bias=True)\n",
       "    (7): ReLU(inplace=True)\n",
       "    (8): BatchNorm1d(15, eps=1e-05, momentum=0.1, affine=True, track_running_stats=True)\n",
       "    (9): Linear(in_features=15, out_features=2, bias=True)\n",
       "  )\n",
       ")"
      ]
     },
     "execution_count": 20,
     "metadata": {},
     "output_type": "execute_result"
    }
   ],
   "source": [
    "learn.load('bestmodel')\n",
    "#learn.TTA(ds_type=DatasetType.Test)\n",
    "#learn.TTA()\n",
    "learn.model"
   ]
  },
  {
   "cell_type": "code",
   "execution_count": 21,
   "metadata": {},
   "outputs": [
    {
     "data": {
      "image/png": "[encoded data removed]",
      "text/plain": [
       "<Figure size 432x288 with 1 Axes>"
      ]
     },
     "metadata": {
      "needs_background": "light"
     },
     "output_type": "display_data"
    }
   ],
   "source": [
    "learn.recorder.plot_losses()"
   ]
  },
  {
   "cell_type": "code",
   "execution_count": 22,
   "metadata": {},
   "outputs": [],
   "source": [
    "[train_preds, train_targets] = learn.get_preds(ds_type=DatasetType.Train)\n",
    "train_preds = to_np(train_preds)[:, 1]\n",
    "train_targets = to_np(train_targets)"
   ]
  },
  {
   "cell_type": "code",
   "execution_count": 23,
   "metadata": {},
   "outputs": [
    {
     "data": {
      "text/plain": [
       "0.30105304640835706"
      ]
     },
     "execution_count": 23,
     "metadata": {},
     "output_type": "execute_result"
    },
    {
     "data": {
      "image/png": "[encoded data removed]",
      "text/plain": [
       "<Figure size 432x288 with 1 Axes>"
      ]
     },
     "metadata": {
      "needs_background": "light"
     },
     "output_type": "display_data"
    }
   ],
   "source": [
    "precision, recall, thresholds = precision_recall_curve(train_targets, train_preds)\n",
    "plt.plot(recall, precision, marker='.')\n",
    "auprc = auc(recall, precision)\n",
    "auprc"
   ]
  },
  {
   "cell_type": "code",
   "execution_count": 24,
   "metadata": {},
   "outputs": [],
   "source": [
    "[valid_preds, valid_targets] = learn.get_preds(ds_type=DatasetType.Valid)\n",
    "valid_preds = to_np(valid_preds)[:, 1]\n",
    "valid_targets = to_np(valid_targets)"
   ]
  },
  {
   "cell_type": "code",
   "execution_count": 98,
   "metadata": {},
   "outputs": [
    {
     "data": {
      "text/plain": [
       "0.26861951642972937"
      ]
     },
     "execution_count": 98,
     "metadata": {},
     "output_type": "execute_result"
    },
    {
     "data": {
      "image/png": "[encoded data removed]",
      "text/plain": [
       "<Figure size 432x288 with 1 Axes>"
      ]
     },
     "metadata": {
      "needs_background": "light"
     },
     "output_type": "display_data"
    }
   ],
   "source": [
    "precision, recall, thresholds = precision_recall_curve(valid_targets, valid_preds)\n",
    "plt.plot(recall, precision, marker='.')\n",
    "auprc = auc(recall, precision)\n",
    "auprc"
   ]
  },
  {
   "cell_type": "code",
   "execution_count": 86,
   "metadata": {},
   "outputs": [],
   "source": [
    "predictions, *_ = learn.get_preds(DatasetType.Test)\n",
    "#labels = np.argmax(predictions, 1)"
   ]
  },
  {
   "cell_type": "code",
   "execution_count": 87,
   "metadata": {},
   "outputs": [
    {
     "data": {
      "text/plain": [
       "tensor([0, 0, 0,  ..., 0, 0, 1])"
      ]
     },
     "execution_count": 87,
     "metadata": {},
     "output_type": "execute_result"
    }
   ],
   "source": [
    "labels = np.argmax(predictions, 1)\n",
    "labels"
   ]
  },
  {
   "cell_type": "code",
   "execution_count": 88,
   "metadata": {},
   "outputs": [
    {
     "data": {
      "text/html": [
       "<div>\n",
       "<style scoped>\n",
       "    .dataframe tbody tr th:only-of-type {\n",
       "        vertical-align: middle;\n",
       "    }\n",
       "\n",
       "    .dataframe tbody tr th {\n",
       "        vertical-align: top;\n",
       "    }\n",
       "\n",
       "    .dataframe thead th {\n",
       "        text-align: right;\n",
       "    }\n",
       "</style>\n",
       "<table border=\"1\" class=\"dataframe\">\n",
       "  <thead>\n",
       "    <tr style=\"text-align: right;\">\n",
       "      <th></th>\n",
       "      <th>Col1</th>\n",
       "      <th>Col2</th>\n",
       "    </tr>\n",
       "  </thead>\n",
       "  <tbody>\n",
       "    <tr>\n",
       "      <td>0</td>\n",
       "      <td>RIGD58ZWD</td>\n",
       "      <td>0</td>\n",
       "    </tr>\n",
       "    <tr>\n",
       "      <td>1</td>\n",
       "      <td>RIH660YDS</td>\n",
       "      <td>0</td>\n",
       "    </tr>\n",
       "    <tr>\n",
       "      <td>2</td>\n",
       "      <td>RIH660Q96</td>\n",
       "      <td>0</td>\n",
       "    </tr>\n",
       "    <tr>\n",
       "      <td>3</td>\n",
       "      <td>RIYDO15W1</td>\n",
       "      <td>0</td>\n",
       "    </tr>\n",
       "    <tr>\n",
       "      <td>4</td>\n",
       "      <td>RIYBGC1ZD</td>\n",
       "      <td>0</td>\n",
       "    </tr>\n",
       "  </tbody>\n",
       "</table>\n",
       "</div>"
      ],
      "text/plain": [
       "        Col1  Col2\n",
       "0  RIGD58ZWD     0\n",
       "1  RIH660YDS     0\n",
       "2  RIH660Q96     0\n",
       "3  RIYDO15W1     0\n",
       "4  RIYBGC1ZD     0"
      ]
     },
     "execution_count": 88,
     "metadata": {},
     "output_type": "execute_result"
    }
   ],
   "source": [
    "submission = pd.DataFrame({'Col1': test_id, 'Col2': labels})\n",
    "submission.to_csv('submission_v14.csv', index=False)\n",
    "submission.head()\n"
   ]
  },
  {
   "cell_type": "code",
   "execution_count": 1,
   "metadata": {},
   "outputs": [
    {
     "name": "stdout",
     "output_type": "stream",
     "text": [
      "Once deleted, variables cannot be recovered. Proceed (y/[n])? y\n"
     ]
    }
   ],
   "source": [
    "%reset"
   ]
  },
  {
   "cell_type": "code",
   "execution_count": null,
   "metadata": {},
   "outputs": [],
   "source": []
  }
 ],
 "metadata": {
  "kernelspec": {
   "display_name": "Python 3",
   "language": "python",
   "name": "python3"
  },
  "language_info": {
   "codemirror_mode": {
    "name": "ipython",
    "version": 3
   },
   "file_extension": ".py",
   "mimetype": "text/x-python",
   "name": "python",
   "nbconvert_exporter": "python",
   "pygments_lexer": "ipython3",
   "version": "3.6.9"
  }
 },
 "nbformat": 4,
 "nbformat_minor": 2
}
